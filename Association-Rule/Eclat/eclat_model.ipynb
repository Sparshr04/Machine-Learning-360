{
 "cells": [
  {
   "cell_type": "markdown",
   "id": "a2342cb8",
   "metadata": {},
   "source": [
    "## Eclat"
   ]
  },
  {
   "cell_type": "code",
   "execution_count": 10,
   "id": "fa10a76f",
   "metadata": {},
   "outputs": [],
   "source": [
    "import pandas as pd\n",
    "import numpy as np\n",
    "import matplotlib.pyplot as plt"
   ]
  },
  {
   "cell_type": "code",
   "execution_count": 11,
   "id": "048d9f68",
   "metadata": {},
   "outputs": [],
   "source": [
    "df = pd.read_csv(\"../Market_Basket_Optimisation.csv\", header=None)\n",
    "transaction = []\n",
    "for i in range(0,7501):\n",
    "    transaction.append([str(df.values[i,j]) for j in range(0,20)])"
   ]
  },
  {
   "cell_type": "code",
   "execution_count": 17,
   "id": "39f9859a",
   "metadata": {},
   "outputs": [],
   "source": [
    "from apyori import apriori\n",
    "rules = apriori(transactions=transaction, min_support=0.003, min_confidance=0.2, min_lift=3, min_length=2, max_length=2)"
   ]
  },
  {
   "cell_type": "code",
   "execution_count": 18,
   "id": "64573219",
   "metadata": {},
   "outputs": [
    {
     "name": "stdout",
     "output_type": "stream",
     "text": [
      "RelationRecord(items=frozenset({'cottage cheese', 'brownies'}), support=0.0034662045060658577, ordered_statistics=[OrderedStatistic(items_base=frozenset({'brownies'}), items_add=frozenset({'cottage cheese'}), confidence=0.10276679841897232, lift=3.225329518580382), OrderedStatistic(items_base=frozenset({'cottage cheese'}), items_add=frozenset({'brownies'}), confidence=0.10878661087866107, lift=3.2253295185803816)])\n",
      "RelationRecord(items=frozenset({'light cream', 'chicken'}), support=0.004532728969470737, ordered_statistics=[OrderedStatistic(items_base=frozenset({'chicken'}), items_add=frozenset({'light cream'}), confidence=0.07555555555555556, lift=4.843950617283951), OrderedStatistic(items_base=frozenset({'light cream'}), items_add=frozenset({'chicken'}), confidence=0.29059829059829057, lift=4.84395061728395)])\n",
      "RelationRecord(items=frozenset({'mushroom cream sauce', 'escalope'}), support=0.005732568990801226, ordered_statistics=[OrderedStatistic(items_base=frozenset({'escalope'}), items_add=frozenset({'mushroom cream sauce'}), confidence=0.0722689075630252, lift=3.7908326967150496), OrderedStatistic(items_base=frozenset({'mushroom cream sauce'}), items_add=frozenset({'escalope'}), confidence=0.3006993006993007, lift=3.790832696715049)])\n",
      "RelationRecord(items=frozenset({'escalope', 'pasta'}), support=0.005865884548726837, ordered_statistics=[OrderedStatistic(items_base=frozenset({'escalope'}), items_add=frozenset({'pasta'}), confidence=0.07394957983193277, lift=4.700811850163794), OrderedStatistic(items_base=frozenset({'pasta'}), items_add=frozenset({'escalope'}), confidence=0.3728813559322034, lift=4.700811850163794)])\n",
      "RelationRecord(items=frozenset({'fresh bread', 'tomato juice'}), support=0.004266097853619517, ordered_statistics=[OrderedStatistic(items_base=frozenset({'fresh bread'}), items_add=frozenset({'tomato juice'}), confidence=0.09907120743034055, lift=3.2593558198902826), OrderedStatistic(items_base=frozenset({'tomato juice'}), items_add=frozenset({'fresh bread'}), confidence=0.14035087719298245, lift=3.2593558198902826)])\n",
      "RelationRecord(items=frozenset({'honey', 'fresh tuna'}), support=0.003999466737768298, ordered_statistics=[OrderedStatistic(items_base=frozenset({'fresh tuna'}), items_add=frozenset({'honey'}), confidence=0.17964071856287428, lift=3.7850703088205613), OrderedStatistic(items_base=frozenset({'honey'}), items_add=frozenset({'fresh tuna'}), confidence=0.08426966292134831, lift=3.7850703088205613)])\n",
      "RelationRecord(items=frozenset({'fromage blanc', 'honey'}), support=0.003332888948140248, ordered_statistics=[OrderedStatistic(items_base=frozenset({'fromage blanc'}), items_add=frozenset({'honey'}), confidence=0.2450980392156863, lift=5.164270764485569), OrderedStatistic(items_base=frozenset({'honey'}), items_add=frozenset({'fromage blanc'}), confidence=0.0702247191011236, lift=5.16427076448557)])\n",
      "RelationRecord(items=frozenset({'ground beef', 'herb & pepper'}), support=0.015997866951073192, ordered_statistics=[OrderedStatistic(items_base=frozenset({'ground beef'}), items_add=frozenset({'herb & pepper'}), confidence=0.1628222523744912, lift=3.291993841134928), OrderedStatistic(items_base=frozenset({'herb & pepper'}), items_add=frozenset({'ground beef'}), confidence=0.3234501347708895, lift=3.2919938411349285)])\n",
      "RelationRecord(items=frozenset({'tomato sauce', 'ground beef'}), support=0.005332622317024397, ordered_statistics=[OrderedStatistic(items_base=frozenset({'ground beef'}), items_add=frozenset({'tomato sauce'}), confidence=0.054274084124830396, lift=3.840659481324083), OrderedStatistic(items_base=frozenset({'tomato sauce'}), items_add=frozenset({'ground beef'}), confidence=0.3773584905660377, lift=3.840659481324083)])\n",
      "RelationRecord(items=frozenset({'olive oil', 'light cream'}), support=0.003199573390214638, ordered_statistics=[OrderedStatistic(items_base=frozenset({'light cream'}), items_add=frozenset({'olive oil'}), confidence=0.20512820512820515, lift=3.1147098515519573), OrderedStatistic(items_base=frozenset({'olive oil'}), items_add=frozenset({'light cream'}), confidence=0.048582995951417005, lift=3.114709851551957)])\n",
      "RelationRecord(items=frozenset({'whole wheat pasta', 'olive oil'}), support=0.007998933475536596, ordered_statistics=[OrderedStatistic(items_base=frozenset({'olive oil'}), items_add=frozenset({'whole wheat pasta'}), confidence=0.12145748987854252, lift=4.1224100976422955), OrderedStatistic(items_base=frozenset({'whole wheat pasta'}), items_add=frozenset({'olive oil'}), confidence=0.2714932126696833, lift=4.122410097642296)])\n",
      "RelationRecord(items=frozenset({'shrimp', 'pasta'}), support=0.005065991201173177, ordered_statistics=[OrderedStatistic(items_base=frozenset({'pasta'}), items_add=frozenset({'shrimp'}), confidence=0.3220338983050847, lift=4.506672147735896), OrderedStatistic(items_base=frozenset({'shrimp'}), items_add=frozenset({'pasta'}), confidence=0.0708955223880597, lift=4.506672147735896)])\n"
     ]
    }
   ],
   "source": [
    "results = list(rules)\n",
    "for rule in results:\n",
    "    print(rule)"
   ]
  },
  {
   "cell_type": "code",
   "execution_count": 19,
   "id": "ea3a4fdf",
   "metadata": {},
   "outputs": [],
   "source": [
    "def inspect(results):\n",
    "    lhs         = [tuple(result[2][0][0])[0] for result in results]\n",
    "    rhs         = [tuple(result[2][0][1])[0] for result in results]\n",
    "    supports    = [result[1] for result in results]\n",
    "    return list(zip(lhs, rhs, supports))\n",
    "resultsinDataFrame = pd.DataFrame(inspect(results), columns = ['Product 1', 'Product 2', 'Support'])\n"
   ]
  },
  {
   "cell_type": "code",
   "execution_count": 20,
   "id": "e4576c00",
   "metadata": {},
   "outputs": [
    {
     "data": {
      "text/html": [
       "<div>\n",
       "<style scoped>\n",
       "    .dataframe tbody tr th:only-of-type {\n",
       "        vertical-align: middle;\n",
       "    }\n",
       "\n",
       "    .dataframe tbody tr th {\n",
       "        vertical-align: top;\n",
       "    }\n",
       "\n",
       "    .dataframe thead th {\n",
       "        text-align: right;\n",
       "    }\n",
       "</style>\n",
       "<table border=\"1\" class=\"dataframe\">\n",
       "  <thead>\n",
       "    <tr style=\"text-align: right;\">\n",
       "      <th></th>\n",
       "      <th>Product 1</th>\n",
       "      <th>Product 2</th>\n",
       "      <th>Support</th>\n",
       "    </tr>\n",
       "  </thead>\n",
       "  <tbody>\n",
       "    <tr>\n",
       "      <th>7</th>\n",
       "      <td>ground beef</td>\n",
       "      <td>herb &amp; pepper</td>\n",
       "      <td>0.015998</td>\n",
       "    </tr>\n",
       "    <tr>\n",
       "      <th>10</th>\n",
       "      <td>olive oil</td>\n",
       "      <td>whole wheat pasta</td>\n",
       "      <td>0.007999</td>\n",
       "    </tr>\n",
       "    <tr>\n",
       "      <th>3</th>\n",
       "      <td>escalope</td>\n",
       "      <td>pasta</td>\n",
       "      <td>0.005866</td>\n",
       "    </tr>\n",
       "    <tr>\n",
       "      <th>2</th>\n",
       "      <td>escalope</td>\n",
       "      <td>mushroom cream sauce</td>\n",
       "      <td>0.005733</td>\n",
       "    </tr>\n",
       "    <tr>\n",
       "      <th>8</th>\n",
       "      <td>ground beef</td>\n",
       "      <td>tomato sauce</td>\n",
       "      <td>0.005333</td>\n",
       "    </tr>\n",
       "    <tr>\n",
       "      <th>11</th>\n",
       "      <td>pasta</td>\n",
       "      <td>shrimp</td>\n",
       "      <td>0.005066</td>\n",
       "    </tr>\n",
       "    <tr>\n",
       "      <th>1</th>\n",
       "      <td>chicken</td>\n",
       "      <td>light cream</td>\n",
       "      <td>0.004533</td>\n",
       "    </tr>\n",
       "    <tr>\n",
       "      <th>4</th>\n",
       "      <td>fresh bread</td>\n",
       "      <td>tomato juice</td>\n",
       "      <td>0.004266</td>\n",
       "    </tr>\n",
       "    <tr>\n",
       "      <th>5</th>\n",
       "      <td>fresh tuna</td>\n",
       "      <td>honey</td>\n",
       "      <td>0.003999</td>\n",
       "    </tr>\n",
       "    <tr>\n",
       "      <th>0</th>\n",
       "      <td>brownies</td>\n",
       "      <td>cottage cheese</td>\n",
       "      <td>0.003466</td>\n",
       "    </tr>\n",
       "  </tbody>\n",
       "</table>\n",
       "</div>"
      ],
      "text/plain": [
       "      Product 1             Product 2   Support\n",
       "7   ground beef         herb & pepper  0.015998\n",
       "10    olive oil     whole wheat pasta  0.007999\n",
       "3      escalope                 pasta  0.005866\n",
       "2      escalope  mushroom cream sauce  0.005733\n",
       "8   ground beef          tomato sauce  0.005333\n",
       "11        pasta                shrimp  0.005066\n",
       "1       chicken           light cream  0.004533\n",
       "4   fresh bread          tomato juice  0.004266\n",
       "5    fresh tuna                 honey  0.003999\n",
       "0      brownies        cottage cheese  0.003466"
      ]
     },
     "execution_count": 20,
     "metadata": {},
     "output_type": "execute_result"
    }
   ],
   "source": [
    "resultsinDataFrame.nlargest(n=10, columns='Support')"
   ]
  },
  {
   "cell_type": "code",
   "execution_count": null,
   "id": "092e4263",
   "metadata": {},
   "outputs": [],
   "source": []
  }
 ],
 "metadata": {
  "kernelspec": {
   "display_name": "venv (3.13.7)",
   "language": "python",
   "name": "python3"
  },
  "language_info": {
   "codemirror_mode": {
    "name": "ipython",
    "version": 3
   },
   "file_extension": ".py",
   "mimetype": "text/x-python",
   "name": "python",
   "nbconvert_exporter": "python",
   "pygments_lexer": "ipython3",
   "version": "3.13.7"
  }
 },
 "nbformat": 4,
 "nbformat_minor": 5
}
