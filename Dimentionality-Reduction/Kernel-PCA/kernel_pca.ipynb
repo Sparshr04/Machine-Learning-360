{
 "cells": [
  {
   "cell_type": "code",
   "execution_count": null,
   "id": "38c3a1de",
   "metadata": {},
   "outputs": [],
   "source": [
    "import pandas as pd\n",
    "import numpy as np\n",
    "import matplotlib.pyplot as plt"
   ]
  },
  {
   "cell_type": "code",
   "execution_count": null,
   "id": "b4ab972b",
   "metadata": {},
   "outputs": [],
   "source": [
    "df = pd.read_csv(\"../Wine.csv\")\n",
    "X = df.iloc[:, :-1].values\n",
    "y = df.iloc[:, -1].values"
   ]
  }
 ],
 "metadata": {
  "language_info": {
   "name": "python"
  }
 },
 "nbformat": 4,
 "nbformat_minor": 5
}
